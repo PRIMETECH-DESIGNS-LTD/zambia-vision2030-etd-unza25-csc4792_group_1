{
 "cells": [
  {
   "cell_type": "code",
   "execution_count": null,
   "id": "054cc714-11d6-487a-8950-0b95b78efb37",
   "metadata": {},
   "outputs": [],
   "source": [
    "### **1.3 Data Mining Goals**  \n",
    "\n",
    "- **i. Sector Classification Model**  \n",
    "  - Develop a transformer-based NLP model to predict sector tags from unstructured ETD text.  \n",
    "  - Prioritize handling of edge cases (e.g., multi-sector projects like “agro-processing”).  \n",
    "\n",
    "- **ii. Hybrid Classification System**  \n",
    "  - Integrate rule-based keyword filters with ML predictions to improve label consistency.  \n",
    "  - Focus on reducing false positives in semantically overlapping sectors (e.g., Energy vs. Mining).  \n",
    "\n",
    "- **iii. Latent Theme Discovery**  \n",
    "  - Identify non-obvious thematic patterns in ETDs (e.g., “gender-inclusive infrastructure”) beyond predefined sectors.  \n",
    "  - Validate themes through alignment with sub-sector policies (8NDP/Vision 2030).  \n",
    "\n",
    "- **iv. Data-Driven Gap Analysis**  \n",
    "  - Quantify sectoral coverage imbalances using cluster purity metrics.  \n",
    "  - Flag under-represented sectors for policy review (e.g., low cluster density in “Renewable Energy”).\n",
    "\n"
   ]
  }
 ],
 "metadata": {
  "kernelspec": {
   "display_name": "Python 3 (ipykernel)",
   "language": "python",
   "name": "python3"
  },
  "language_info": {
   "codemirror_mode": {
    "name": "ipython",
    "version": 3
   },
   "file_extension": ".py",
   "mimetype": "text/x-python",
   "name": "python",
   "nbconvert_exporter": "python",
   "pygments_lexer": "ipython3",
   "version": "3.13.6"
  }
 },
 "nbformat": 4,
 "nbformat_minor": 5
}
