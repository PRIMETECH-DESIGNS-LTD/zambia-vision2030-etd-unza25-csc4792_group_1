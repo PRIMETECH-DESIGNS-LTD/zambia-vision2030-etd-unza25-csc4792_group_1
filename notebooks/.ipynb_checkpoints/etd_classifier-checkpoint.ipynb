{
 "cells": [
  {
   "cell_type": "markdown",
   "metadata": {
    "colab_type": "text",
    "id": "view-in-github"
   },
   "source": [
    "<a href=\"https://colab.research.google.com/github/PRIMETECH-DESIGNS-LTD/zambia-vision2030-etd-unza25-csc4792_group_1/blob/main/notebooks/etd_classifier.ipynb\" target=\"_parent\"><img src=\"https://colab.research.google.com/assets/colab-badge.svg\" alt=\"Open In Colab\"/></a>"
   ]
  },
  {
   "cell_type": "markdown",
   "metadata": {
    "id": "m22ZGKQiNlEV"
   },
   "source": [
    "<div align=\"center\">\n",
    "  <img src=\"https://th.bing.com/th/id/OIP.aZt5o1S31YdVKWcrxIBK0gHaKH?w=200&h=200&c=10&o=6&pid=genserp&rm=2\" alt=\"Zambia Vision 2030 Logo\" width=\"150\">\n",
    "</div>\n",
    "\n",
    "<div align=\"center\">\n",
    "    <h1>ZAMBIA VISION 2030 ETD CLASSIFIER</h1>\n",
    "    <h3 style=\"color:blue;\"><i>UNZA CSC 4792 (2024/25) - Group Project | Department of Computer Science and Informatics</i><h3>\n",
    "</div>\n",
    "\n",
    "---\n",
    "\n",
    "## **1. Business Understanding**\n",
    "\n",
    "### **1.1 Problem Statement**\n",
    "Zambia’s Vision 2030 aims to transform the nation into a prosperous middle-income economy through sectoral\n",
    "development. However, tracking progress is hindered by:\n",
    "- **Fragmented data**: Emerging and Transformative Developments (*ETDs*) are siloed across\n",
    "government portals, reports, and international databases.\n",
    "- **Manual classification:** Current sector tagging of ETDs (e.g., agriculture, mining, ICT) is\n",
    "inconsistent, delaying policy adjustments.\n",
    "- **Limited visibility:** Policymakers lack a unified view of ETD distribution across Vision 2030’s 12\n",
    "priority sectors.\n",
    "\n",
    "### **1.2 Business Objectives**\n",
    "- Automate ETD classification with ≥ 90% accuracy across all 12 Vision 2030 sectors\n",
    "\n",
    "- Integrate ≥ 90% of identified ETD data sources (government, reports, international databases) into a unified repository\n",
    "\n",
    "- Reduce ETD classification time from days/weeks to < 24 hours\n",
    "\n",
    "- Identify underfunded or emerging sectors through automated analytics (e.g., cluster analysis, trend detection)\n",
    "\n",
    "- Develop an interactive, public-facing dashboard for sector trends and transparency\n",
    "\n",
    "- Provide sector classification explanations for ≥ 95% of ETDs to ensure trust and auditability\n",
    "\n",
    "- Achieve ≥ 90% agreement between automated classifications and expert human review\n",
    "\n",
    "- Enable quarterly automated reports on ETD distribution across sectors for policymakers\n",
    "\n",
    "- Maintain system uptime ≥ 99% to support continuous access for decision-makers\n",
    "\n",
    "- Implement a feedback loop allowing policymakers to correct classifications and improve the model over time\n",
    "\n",
    "### **1.3 Data Mining Goals**\n",
    "```python\n",
    "from transformers import BertForSequenceClassification\n",
    "model = BertForSequenceClassification(num_labels=12)\n",
    "```\n",
    "\n",
    "### **1.4 Success Criteria**\n",
    "\n",
    "- **Classification Accuracy**  \n",
    "  - Achieve a macro average F1-score of ≥ 0.85 for the automated sector classification model.  \n",
    "  - Validated through 10-fold cross-validation on held-out test data.  \n",
    "\n",
    "- **Cluster Interpretability**  \n",
    "  - Attain a Silhouette Score of ≥ 0.6 for unsupervised clustering of ETDs.  \n",
    "  - Clusters must be at least 80% interpretable by domain experts in relation to Vision 2030 sectors.  \n",
    "\n",
    "- **Policy Relevance**  \n",
    "  - Ensure ≥ 90% of classified sectors align with Zambia’s Eighth National Development Plan (8NDP) priorities.  \n",
    "  - Verified through manual review by Ministry of Finance experts.  \n",
    "\n",
    "- **Operational Efficiency**  \n",
    "  - Reduce manual tagging time by at least 70% compared to current processes.  \n",
    "  - Measured using a time-motion study.  \n",
    "\n",
    "- **Dashboard Performance**  \n",
    "  - Ensure public-facing dashboard loads in ≤ 2 seconds under standard network conditions.  \n",
    "  - Measured through automated performance testing.  \n",
    "\n",
    "### **1.5 Data Sources**\n",
    "- Zambia Development Agency API\n",
    "- World Bank Projects Database\n",
    "- 8th National Development Plan PDF"
   ]
  },
  {
   "cell_type": "code",
   "execution_count": null,
   "metadata": {},
   "outputs": [],
   "source": []
  },
  {
   "cell_type": "code",
   "execution_count": null,
   "metadata": {},
   "outputs": [],
   "source": []
  }
 ],
 "metadata": {
  "colab": {
   "include_colab_link": true,
   "provenance": []
  },
  "kernelspec": {
   "display_name": "Python 3 (ipykernel)",
   "language": "python",
   "name": "python3"
  },
  "language_info": {
   "codemirror_mode": {
    "name": "ipython",
    "version": 3
   },
   "file_extension": ".py",
   "mimetype": "text/x-python",
   "name": "python",
   "nbconvert_exporter": "python",
   "pygments_lexer": "ipython3",
   "version": "3.12.3"
  }
 },
 "nbformat": 4,
 "nbformat_minor": 4
}
