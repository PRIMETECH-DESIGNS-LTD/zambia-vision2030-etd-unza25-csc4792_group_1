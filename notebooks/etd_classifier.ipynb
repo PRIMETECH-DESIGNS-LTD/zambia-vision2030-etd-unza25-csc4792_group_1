{
  "nbformat": 4,
  "nbformat_minor": 0,
  "metadata": {
    "colab": {
      "provenance": [],
      "authorship_tag": "ABX9TyOx7IG5NY3l9q7saPOkeWq4",
      "include_colab_link": true
    },
    "kernelspec": {
      "name": "python3",
      "display_name": "Python 3"
    },
    "language_info": {
      "name": "python"
    }
  },
  "cells": [
    {
      "cell_type": "markdown",
      "metadata": {
        "id": "view-in-github",
        "colab_type": "text"
      },
      "source": [
        "<a href=\"https://colab.research.google.com/github/PRIMETECH-DESIGNS-LTD/zambia-vision2030-etd-unza25-csc4792_group_1/blob/main/notebooks/etd_classifier.ipynb\" target=\"_parent\"><img src=\"https://colab.research.google.com/assets/colab-badge.svg\" alt=\"Open In Colab\"/></a>"
      ]
    },
    {
      "cell_type": "code",
      "execution_count": null,
      "metadata": {
        "id": "m22ZGKQiNlEV"
      },
      "outputs": [],
      "source": [
        "<div align=\"center\">\n",
        "  <img src=\"https://th.bing.com/th/id/OIP.aZt5o1S31YdVKWcrxIBK0gHaKH?w=200&h=200&c=10&o=6&pid=genserp&rm=2\" alt=\"Zambia Vision 2030 Logo\" width=\"150\">\n",
        "\n",
        "  <h1>Zambia Vision 2030 ETD Classifier</h1>\n",
        " <h3 style=\"color:blue;\"><i>UNZA CSC 4792 (2024/25) - Group Project | Department of Computer Science</i></h3>\n",
        "</div>\n",
        "\n",
        "## 1. Business Understanding\n",
        "\n",
        "### 1.1 Problem Statement\n",
        "- Fragmented ETD data across government portals\n",
        "- Inconsistent manual classification processes\n",
        "- Limited visibility into sectoral distribution\n",
        "\n",
        "### 1.2 Business Objectives\n",
        "- Automate ETD classification with ≥90% accuracy\n",
        "- Identify underfunded sectors through cluster analysis\n",
        "- Develop public dashboard for transparency\n",
        "\n",
        "  ### 1.3 Data Mining Goals\n",
        "\n",
        "```python\n",
        "from transformers import BertForSequenceClassification\n",
        "model = BertForSequenceClassification(num_labels=12)\n",
        "```\n",
        "Vision 2030 sectors\n",
        "\n",
        "\n",
        "  ### 1.4 Success Criteria\n",
        "    | Metric          | Target    |\n",
        "    |-----------------|-----------|\n",
        "    | F1-score        | ≥ 0.85    |\n",
        "    | Silhouette Score| ≥ 0.6     |\n",
        "\n",
        "  ### 1.5 Data Sources\n",
        "- Zambia Development Agency API\n",
        "- World Bank Projects Database\n",
        "- 8th National Development Plan PDF"
      ]
    },
    {
      "cell_type": "code",
      "source": [
        "!git remote -v"
      ],
      "metadata": {
        "colab": {
          "base_uri": "https://localhost:8080/"
        },
        "id": "e5f8UXsZmHXg",
        "outputId": "a1d2a059-b0cb-452c-cf9f-d6dcab66290b"
      },
      "execution_count": null,
      "outputs": [
        {
          "output_type": "stream",
          "name": "stdout",
          "text": [
            "fatal: not a git repository (or any of the parent directories): .git\n"
          ]
        }
      ]
    }
  ]
}