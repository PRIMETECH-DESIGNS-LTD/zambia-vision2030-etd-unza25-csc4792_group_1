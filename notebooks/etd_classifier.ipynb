{
  "cells": [
    {
      "cell_type": "markdown",
      "metadata": {
        "colab_type": "text",
        "id": "view-in-github"
      },
      "source": [
        "<a href=\"https://colab.research.google.com/github/PRIMETECH-DESIGNS-LTD/zambia-vision2030-etd-unza25-csc4792_group_1/blob/main/notebooks/etd_classifier.ipynb\" target=\"_parent\"><img src=\"https://colab.research.google.com/assets/colab-badge.svg\" alt=\"Open In Colab\"/></a>"
      ]
    },
    {
      "cell_type": "code",
      "execution_count": null,
      "metadata": {
        "id": "m22ZGKQiNlEV"
      },
      "outputs": [],
      "source": [
        "<div align=\"center\">\n",
        "  <img src=\"https://th.bing.com/th/id/OIP.aZt5o1S31YdVKWcrxIBK0gHaKH?w=200&h=200&c=10&o=6&pid=genserp&rm=2\" alt=\"Zambia Vision 2030 Logo\" width=\"150\">\n",
        "\n",
        "  <h1>Zambia Vision 2030 ETD Classifier</h1>\n",
        " <h3 style=\"color:blue;\"><i>UNZA CSC 4792 (2024/25) - Group Project | Department of Computer Science</i></h3>\n",
        "</div>\n",
        "\n",
        "## 1. Business Understanding\n",
        "\n",
        "### 1.1 Problem Statement\n",
        "- Fragmented ETD data across government portals\n",
        "- Inconsistent manual classification processes\n",
        "- Limited visibility into sectoral distribution\n",
        "\n",
        "### 1.2 Business Objectives\n",
        "- Automate ETD classification with ≥90% accuracy\n",
        "- Identify underfunded sectors through cluster analysis\n",
        "- Develop public dashboard for transparency\n",
        "\n",
        "  ### 1.3 Data Mining Goals\n",
        "\n",
        "```python\n",
        "from transformers import BertForSequenceClassification\n",
        "model = BertForSequenceClassification(num_labels=12)\n",
        "```\n",
        "Vision 2030 sectors\n",
        "\n",
        "\n",
        "### 1.4 Success Criteria\n",
        "\n",
        "- **Classification Accuracy**  \n",
        "  - Achieve a macro average F1-score of ≥ 0.85 for the automated sector classification model.  \n",
        "  - Validated through 10-fold cross-validation on held-out test data.  \n",
        "\n",
        "- **Cluster Interpretability**  \n",
        "  - Attain a Silhouette Score of ≥ 0.6 for unsupervised clustering of ETDs.  \n",
        "  - Clusters must be at least 80% interpretable by domain experts in relation to Vision 2030 sectors.  \n",
        "\n",
        "- **Policy Relevance**  \n",
        "  - Ensure ≥ 90% of classified sectors align with Zambia’s Eighth National Development Plan (8NDP) priorities.  \n",
        "  - Verified through manual review by Ministry of Finance experts.  \n",
        "\n",
        "- **Operational Efficiency**  \n",
        "  - Reduce manual tagging time by at least 70% compared to current processes.  \n",
        "  - Measured using a time-motion study.  \n",
        "\n",
        "- **Dashboard Performance**  \n",
        "  - Ensure public-facing dashboard loads in ≤ 2 seconds under standard network conditions.  \n",
        "  - Measured through automated performance testing.  \n",
        "\n",
        "  ### 1.5 Data Sources\n",
        "- Zambia Development Agency API\n",
        "- World Bank Projects Database\n",
        "- 8th National Development Plan PDF"
      ]
    },
    {
      "cell_type": "code",
      "execution_count": null,
      "metadata": {
        "colab": {
          "base_uri": "https://localhost:8080/"
        },
        "id": "e5f8UXsZmHXg",
        "outputId": "a1d2a059-b0cb-452c-cf9f-d6dcab66290b"
      },
      "outputs": [
        {
          "name": "stdout",
          "output_type": "stream",
          "text": [
            "fatal: not a git repository (or any of the parent directories): .git\n"
          ]
        }
      ],
      "source": [
        "!git remote -v"
      ]
    }
  ],
  "metadata": {
    "colab": {
      "authorship_tag": "ABX9TyOx7IG5NY3l9q7saPOkeWq4",
      "include_colab_link": true,
      "provenance": []
    },
    "kernelspec": {
      "display_name": "Python 3",
      "name": "python3"
    },
    "language_info": {
      "name": "python"
    }
  },
  "nbformat": 4,
  "nbformat_minor": 0
}
